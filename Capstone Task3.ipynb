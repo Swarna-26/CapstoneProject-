{
 "cells": [
  {
   "cell_type": "code",
   "execution_count": 1,
   "id": "f474b1fc",
   "metadata": {},
   "outputs": [],
   "source": [
    "from pyspark.sql import SparkSession"
   ]
  },
  {
   "cell_type": "code",
   "execution_count": 2,
   "id": "8b738d34",
   "metadata": {},
   "outputs": [
    {
     "data": {
      "text/html": [
       "\n",
       "            <div>\n",
       "                <p><b>SparkSession - hive</b></p>\n",
       "                \n",
       "        <div>\n",
       "            <p><b>SparkContext</b></p>\n",
       "\n",
       "            <p><a href=\"http://g02.itversity.com:4046\">Spark UI</a></p>\n",
       "\n",
       "            <dl>\n",
       "              <dt>Version</dt>\n",
       "                <dd><code>v3.0.1</code></dd>\n",
       "              <dt>Master</dt>\n",
       "                <dd><code>yarn</code></dd>\n",
       "              <dt>AppName</dt>\n",
       "                <dd><code>Capstone Task3</code></dd>\n",
       "            </dl>\n",
       "        </div>\n",
       "        \n",
       "            </div>\n",
       "        "
      ],
      "text/plain": [
       "<pyspark.sql.session.SparkSession at 0x7f92a0682e48>"
      ]
     },
     "execution_count": 2,
     "metadata": {},
     "output_type": "execute_result"
    }
   ],
   "source": [
    "spark = SparkSession.builder.appName('Capstone Task3').enableHiveSupport().getOrCreate()\n",
    "spark"
   ]
  },
  {
   "cell_type": "code",
   "execution_count": 3,
   "id": "8db448c4",
   "metadata": {},
   "outputs": [],
   "source": [
    "course_completion = spark.read.table(\"swarnacapstone.coursecompletion\")"
   ]
  },
  {
   "cell_type": "code",
   "execution_count": 4,
   "id": "a46a53e3",
   "metadata": {},
   "outputs": [],
   "source": [
    "course_details = spark.read.table(\"swarnacapstone.coursedetails\")"
   ]
  },
  {
   "cell_type": "code",
   "execution_count": 5,
   "id": "92f1f106",
   "metadata": {},
   "outputs": [
    {
     "data": {
      "text/plain": [
       "300"
      ]
     },
     "execution_count": 5,
     "metadata": {},
     "output_type": "execute_result"
    }
   ],
   "source": [
    "#checking the count\n",
    "\n",
    "course_completion.count()"
   ]
  },
  {
   "cell_type": "code",
   "execution_count": 6,
   "id": "f337205e",
   "metadata": {},
   "outputs": [
    {
     "data": {
      "text/plain": [
       "30"
      ]
     },
     "execution_count": 6,
     "metadata": {},
     "output_type": "execute_result"
    }
   ],
   "source": [
    "#checking the count\n",
    "\n",
    "course_details.count()"
   ]
  },
  {
   "cell_type": "code",
   "execution_count": 7,
   "id": "d818a542",
   "metadata": {},
   "outputs": [
    {
     "data": {
      "text/html": [
       "<table border='1'>\n",
       "<tr><th>result</th><th>count</th></tr>\n",
       "<tr><td>Not Qualified</td><td>149</td></tr>\n",
       "<tr><td>Qualified</td><td>151</td></tr>\n",
       "</table>\n"
      ],
      "text/plain": [
       "+-------------+-----+\n",
       "|       result|count|\n",
       "+-------------+-----+\n",
       "|Not Qualified|  149|\n",
       "|    Qualified|  151|\n",
       "+-------------+-----+"
      ]
     },
     "execution_count": 7,
     "metadata": {},
     "output_type": "execute_result"
    }
   ],
   "source": [
    "course_completion.groupby('result').count()"
   ]
  },
  {
   "cell_type": "code",
   "execution_count": 8,
   "id": "67149e33",
   "metadata": {},
   "outputs": [
    {
     "data": {
      "text/plain": [
       "149"
      ]
     },
     "execution_count": 8,
     "metadata": {},
     "output_type": "execute_result"
    }
   ],
   "source": [
    "course_completion.where(course_completion['attendedstatus'] == 'Absent').count()"
   ]
  },
  {
   "cell_type": "code",
   "execution_count": 9,
   "id": "14146399",
   "metadata": {},
   "outputs": [],
   "source": [
    "from pyspark.sql.functions import *"
   ]
  },
  {
   "cell_type": "code",
   "execution_count": 11,
   "id": "039ef6c2",
   "metadata": {},
   "outputs": [
    {
     "data": {
      "text/html": [
       "<table border='1'>\n",
       "<tr><th>MaxMarks</th><th>MinMarks</th><th>AvgMarks</th></tr>\n",
       "<tr><td>92</td><td>0</td><td>40.013333333333335</td></tr>\n",
       "</table>\n"
      ],
      "text/plain": [
       "+--------+--------+------------------+\n",
       "|MaxMarks|MinMarks|          AvgMarks|\n",
       "+--------+--------+------------------+\n",
       "|      92|       0|40.013333333333335|\n",
       "+--------+--------+------------------+"
      ]
     },
     "execution_count": 11,
     "metadata": {},
     "output_type": "execute_result"
    }
   ],
   "source": [
    "course_completion.select(max('marks').alias('MaxMarks'), min('marks').alias('MinMarks'), avg('marks').alias('AvgMarks'))"
   ]
  },
  {
   "cell_type": "code",
   "execution_count": null,
   "id": "fb073894",
   "metadata": {},
   "outputs": [],
   "source": []
  }
 ],
 "metadata": {
  "kernelspec": {
   "display_name": "Pyspark 3",
   "language": "python",
   "name": "pyspark3"
  },
  "language_info": {
   "codemirror_mode": {
    "name": "ipython",
    "version": 3
   },
   "file_extension": ".py",
   "mimetype": "text/x-python",
   "name": "python",
   "nbconvert_exporter": "python",
   "pygments_lexer": "ipython3",
   "version": "3.6.12"
  }
 },
 "nbformat": 4,
 "nbformat_minor": 5
}
